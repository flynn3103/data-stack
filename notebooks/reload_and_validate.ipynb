{
 "cells": [
  {
   "cell_type": "markdown",
   "id": "3eab6c10-90b3-43e9-a292-3675b95de2b5",
   "metadata": {},
   "source": [
    "# Great Expectation tutorials"
   ]
  },
  {
   "cell_type": "code",
   "execution_count": 1,
   "id": "86d65305-b1c2-42e2-bf36-bb0ed57a8d92",
   "metadata": {},
   "outputs": [
    {
     "name": "stdout",
     "output_type": "stream",
     "text": [
      "{\n",
      "  \"anonymous_usage_statistics\": {\n",
      "    \"usage_statistics_url\": \"https://stats.greatexpectations.io/great_expectations/v1/usage_statistics\",\n",
      "    \"enabled\": true,\n",
      "    \"explicit_id\": true,\n",
      "    \"explicit_url\": false,\n",
      "    \"data_context_id\": \"068e9a31-a78b-4fb5-a2e4-840492166001\"\n",
      "  },\n",
      "  \"checkpoint_store_name\": \"checkpoint_store\",\n",
      "  \"config_variables_file_path\": \"uncommitted/config_variables.yml\",\n",
      "  \"config_version\": 3.0,\n",
      "  \"data_docs_sites\": {\n",
      "    \"local_site\": {\n",
      "      \"class_name\": \"SiteBuilder\",\n",
      "      \"show_how_to_buttons\": true,\n",
      "      \"store_backend\": {\n",
      "        \"class_name\": \"TupleFilesystemStoreBackend\",\n",
      "        \"base_directory\": \"uncommitted/data_docs/local_site\"\n",
      "      },\n",
      "      \"site_index_builder\": {\n",
      "        \"class_name\": \"DefaultSiteIndexBuilder\"\n",
      "      }\n",
      "    }\n",
      "  },\n",
      "  \"datasources\": {},\n",
      "  \"evaluation_parameter_store_name\": \"evaluation_parameter_store\",\n",
      "  \"expectations_store_name\": \"expectations_store\",\n",
      "  \"fluent_datasources\": {\n",
      "    \"default_pandas_datasource\": {\n",
      "      \"type\": \"pandas\"\n",
      "    }\n",
      "  },\n",
      "  \"include_rendered_content\": {\n",
      "    \"expectation_validation_result\": false,\n",
      "    \"expectation_suite\": false,\n",
      "    \"globally\": false\n",
      "  },\n",
      "  \"plugins_directory\": \"plugins/\",\n",
      "  \"stores\": {\n",
      "    \"expectations_store\": {\n",
      "      \"class_name\": \"ExpectationsStore\",\n",
      "      \"store_backend\": {\n",
      "        \"class_name\": \"TupleFilesystemStoreBackend\",\n",
      "        \"base_directory\": \"expectations/\"\n",
      "      }\n",
      "    },\n",
      "    \"validations_store\": {\n",
      "      \"class_name\": \"ValidationsStore\",\n",
      "      \"store_backend\": {\n",
      "        \"class_name\": \"TupleFilesystemStoreBackend\",\n",
      "        \"base_directory\": \"uncommitted/validations/\"\n",
      "      }\n",
      "    },\n",
      "    \"evaluation_parameter_store\": {\n",
      "      \"class_name\": \"EvaluationParameterStore\"\n",
      "    },\n",
      "    \"checkpoint_store\": {\n",
      "      \"class_name\": \"CheckpointStore\",\n",
      "      \"store_backend\": {\n",
      "        \"class_name\": \"TupleFilesystemStoreBackend\",\n",
      "        \"suppress_store_backend_id\": true,\n",
      "        \"base_directory\": \"checkpoints/\"\n",
      "      }\n",
      "    },\n",
      "    \"profiler_store\": {\n",
      "      \"class_name\": \"ProfilerStore\",\n",
      "      \"store_backend\": {\n",
      "        \"class_name\": \"TupleFilesystemStoreBackend\",\n",
      "        \"suppress_store_backend_id\": true,\n",
      "        \"base_directory\": \"profilers/\"\n",
      "      }\n",
      "    }\n",
      "  },\n",
      "  \"validations_store_name\": \"validations_store\"\n",
      "}\n"
     ]
    }
   ],
   "source": [
    "import great_expectations as gx\n",
    "import pandas as pd\n",
    "\n",
    "from great_expectations.data_context import FileDataContext\n",
    "\n",
    "context = FileDataContext.create(project_root_dir=\".\")\n",
    "\n",
    "# You can take a look at all configurations related to GX here\n",
    "print(context)"
   ]
  },
  {
   "cell_type": "markdown",
   "id": "9768654e-bd59-4f9e-b0dd-a6421be30fe7",
   "metadata": {},
   "source": [
    "## Load another file as a data source"
   ]
  },
  {
   "cell_type": "code",
   "execution_count": 2,
   "id": "a2d39f20-c146-49d8-82cf-f1432c095bd2",
   "metadata": {},
   "outputs": [
    {
     "data": {
      "text/plain": [
       "PandasFilesystemDatasource(type='pandas_filesystem', name='my_ds_2', id=None, assets=[], base_directory=PosixPath('../data/yellow_tripdata'), data_context_root_directory=None)"
      ]
     },
     "execution_count": 2,
     "metadata": {},
     "output_type": "execute_result"
    }
   ],
   "source": [
    "# You have been working with a single file, but how to work with a folder or a DB with several tables?\n",
    "# Now, we have some new terms, the data source contains some data assets, and each asset will be divided into several batches\n",
    "\n",
    "# First, add a folder as a data source\n",
    "context.sources.add_pandas_filesystem(\n",
    "    name=\"my_ds_2\", base_directory=\"../data/yellow_tripdata/\"\n",
    ")"
   ]
  },
  {
   "cell_type": "code",
   "execution_count": 3,
   "id": "69bf3c52-b03d-446e-a1a7-7b81a384aa02",
   "metadata": {},
   "outputs": [],
   "source": [
    "my_ds = context.datasources[\"my_ds_2\"]\n",
    "\n",
    "my_batching_regex = \"yellow_tripdata_2022-.*.parquet\"\n",
    "\n",
    "# Create the data asset (as one or more files from our data source)\n",
    "my_asset = my_ds.add_parquet_asset(\n",
    "    name=\"my_tripdata_data_asset\", batching_regex=my_batching_regex\n",
    ")\n",
    "\n",
    "# Define a Batch Request to include all batches in the available data set\n",
    "my_batch_request = my_asset.build_batch_request()\n",
    "batches = my_asset.get_batch_list_from_batch_request(my_batch_request)"
   ]
  },
  {
   "cell_type": "code",
   "execution_count": 4,
   "id": "921cc5a0-4c0a-407e-8e24-7c0e99da8664",
   "metadata": {},
   "outputs": [
    {
     "name": "stdout",
     "output_type": "stream",
     "text": [
      "{'path': '../data/yellow_tripdata/yellow_tripdata_2022-12.parquet', 'reader_method': 'read_parquet', 'reader_options': {}}\n"
     ]
    }
   ],
   "source": [
    "# Let's verify what we have for each batch\n",
    "for batch in batches:\n",
    "    print(batch.batch_spec)"
   ]
  },
  {
   "cell_type": "markdown",
   "id": "ea98df4a-70b0-41b4-b267-3f69e7d5a7de",
   "metadata": {},
   "source": [
    "## Validate using our default expectation suite"
   ]
  },
  {
   "cell_type": "code",
   "execution_count": 5,
   "id": "57eeb9bd-fd46-4630-8a43-92390e6e37d6",
   "metadata": {},
   "outputs": [
    {
     "data": {
      "application/vnd.jupyter.widget-view+json": {
       "model_id": "89c7eb7af6024fe48b3ae01e39c5f67b",
       "version_major": 2,
       "version_minor": 0
      },
      "text/plain": [
       "Calculating Metrics:   0%|          | 0/1 [00:00<?, ?it/s]"
      ]
     },
     "metadata": {},
     "output_type": "display_data"
    },
    {
     "data": {
      "text/html": [
       "<div>\n",
       "<style scoped>\n",
       "    .dataframe tbody tr th:only-of-type {\n",
       "        vertical-align: middle;\n",
       "    }\n",
       "\n",
       "    .dataframe tbody tr th {\n",
       "        vertical-align: top;\n",
       "    }\n",
       "\n",
       "    .dataframe thead th {\n",
       "        text-align: right;\n",
       "    }\n",
       "</style>\n",
       "<table border=\"1\" class=\"dataframe\">\n",
       "  <thead>\n",
       "    <tr style=\"text-align: right;\">\n",
       "      <th></th>\n",
       "      <th>VendorID</th>\n",
       "      <th>tpep_pickup_datetime</th>\n",
       "      <th>tpep_dropoff_datetime</th>\n",
       "      <th>passenger_count</th>\n",
       "      <th>trip_distance</th>\n",
       "      <th>RatecodeID</th>\n",
       "      <th>store_and_fwd_flag</th>\n",
       "      <th>PULocationID</th>\n",
       "      <th>DOLocationID</th>\n",
       "      <th>payment_type</th>\n",
       "      <th>fare_amount</th>\n",
       "      <th>extra</th>\n",
       "      <th>mta_tax</th>\n",
       "      <th>tip_amount</th>\n",
       "      <th>tolls_amount</th>\n",
       "      <th>improvement_surcharge</th>\n",
       "      <th>total_amount</th>\n",
       "      <th>congestion_surcharge</th>\n",
       "      <th>airport_fee</th>\n",
       "    </tr>\n",
       "  </thead>\n",
       "  <tbody>\n",
       "    <tr>\n",
       "      <th>0</th>\n",
       "      <td>1</td>\n",
       "      <td>2022-12-01 00:37:35</td>\n",
       "      <td>2022-12-01 00:47:35</td>\n",
       "      <td>1.0</td>\n",
       "      <td>2.00</td>\n",
       "      <td>1.0</td>\n",
       "      <td>N</td>\n",
       "      <td>170</td>\n",
       "      <td>237</td>\n",
       "      <td>1</td>\n",
       "      <td>8.5</td>\n",
       "      <td>3.00</td>\n",
       "      <td>0.5</td>\n",
       "      <td>3.10</td>\n",
       "      <td>0.0</td>\n",
       "      <td>0.3</td>\n",
       "      <td>15.40</td>\n",
       "      <td>2.5</td>\n",
       "      <td>0.00</td>\n",
       "    </tr>\n",
       "    <tr>\n",
       "      <th>1</th>\n",
       "      <td>1</td>\n",
       "      <td>2022-12-01 00:34:35</td>\n",
       "      <td>2022-12-01 00:55:21</td>\n",
       "      <td>0.0</td>\n",
       "      <td>8.40</td>\n",
       "      <td>1.0</td>\n",
       "      <td>N</td>\n",
       "      <td>138</td>\n",
       "      <td>141</td>\n",
       "      <td>2</td>\n",
       "      <td>26.0</td>\n",
       "      <td>4.25</td>\n",
       "      <td>0.5</td>\n",
       "      <td>0.00</td>\n",
       "      <td>0.0</td>\n",
       "      <td>0.3</td>\n",
       "      <td>31.05</td>\n",
       "      <td>2.5</td>\n",
       "      <td>1.25</td>\n",
       "    </tr>\n",
       "    <tr>\n",
       "      <th>2</th>\n",
       "      <td>1</td>\n",
       "      <td>2022-12-01 00:33:26</td>\n",
       "      <td>2022-12-01 00:37:34</td>\n",
       "      <td>1.0</td>\n",
       "      <td>0.80</td>\n",
       "      <td>1.0</td>\n",
       "      <td>N</td>\n",
       "      <td>140</td>\n",
       "      <td>140</td>\n",
       "      <td>1</td>\n",
       "      <td>5.0</td>\n",
       "      <td>3.00</td>\n",
       "      <td>0.5</td>\n",
       "      <td>1.76</td>\n",
       "      <td>0.0</td>\n",
       "      <td>0.3</td>\n",
       "      <td>10.56</td>\n",
       "      <td>2.5</td>\n",
       "      <td>0.00</td>\n",
       "    </tr>\n",
       "    <tr>\n",
       "      <th>3</th>\n",
       "      <td>1</td>\n",
       "      <td>2022-12-01 00:45:51</td>\n",
       "      <td>2022-12-01 00:53:16</td>\n",
       "      <td>1.0</td>\n",
       "      <td>3.00</td>\n",
       "      <td>1.0</td>\n",
       "      <td>N</td>\n",
       "      <td>141</td>\n",
       "      <td>79</td>\n",
       "      <td>3</td>\n",
       "      <td>10.0</td>\n",
       "      <td>3.00</td>\n",
       "      <td>0.5</td>\n",
       "      <td>0.00</td>\n",
       "      <td>0.0</td>\n",
       "      <td>0.3</td>\n",
       "      <td>13.80</td>\n",
       "      <td>2.5</td>\n",
       "      <td>0.00</td>\n",
       "    </tr>\n",
       "    <tr>\n",
       "      <th>4</th>\n",
       "      <td>2</td>\n",
       "      <td>2022-12-01 00:49:49</td>\n",
       "      <td>2022-12-01 00:54:13</td>\n",
       "      <td>1.0</td>\n",
       "      <td>0.76</td>\n",
       "      <td>1.0</td>\n",
       "      <td>N</td>\n",
       "      <td>261</td>\n",
       "      <td>231</td>\n",
       "      <td>1</td>\n",
       "      <td>5.0</td>\n",
       "      <td>0.50</td>\n",
       "      <td>0.5</td>\n",
       "      <td>1.76</td>\n",
       "      <td>0.0</td>\n",
       "      <td>0.3</td>\n",
       "      <td>10.56</td>\n",
       "      <td>2.5</td>\n",
       "      <td>0.00</td>\n",
       "    </tr>\n",
       "  </tbody>\n",
       "</table>\n",
       "</div>"
      ],
      "text/plain": [
       "   VendorID tpep_pickup_datetime tpep_dropoff_datetime  passenger_count  \\\n",
       "0         1  2022-12-01 00:37:35   2022-12-01 00:47:35              1.0   \n",
       "1         1  2022-12-01 00:34:35   2022-12-01 00:55:21              0.0   \n",
       "2         1  2022-12-01 00:33:26   2022-12-01 00:37:34              1.0   \n",
       "3         1  2022-12-01 00:45:51   2022-12-01 00:53:16              1.0   \n",
       "4         2  2022-12-01 00:49:49   2022-12-01 00:54:13              1.0   \n",
       "\n",
       "   trip_distance  RatecodeID store_and_fwd_flag  PULocationID  DOLocationID  \\\n",
       "0           2.00         1.0                  N           170           237   \n",
       "1           8.40         1.0                  N           138           141   \n",
       "2           0.80         1.0                  N           140           140   \n",
       "3           3.00         1.0                  N           141            79   \n",
       "4           0.76         1.0                  N           261           231   \n",
       "\n",
       "   payment_type  fare_amount  extra  mta_tax  tip_amount  tolls_amount  \\\n",
       "0             1          8.5   3.00      0.5        3.10           0.0   \n",
       "1             2         26.0   4.25      0.5        0.00           0.0   \n",
       "2             1          5.0   3.00      0.5        1.76           0.0   \n",
       "3             3         10.0   3.00      0.5        0.00           0.0   \n",
       "4             1          5.0   0.50      0.5        1.76           0.0   \n",
       "\n",
       "   improvement_surcharge  total_amount  congestion_surcharge  airport_fee  \n",
       "0                    0.3         15.40                   2.5         0.00  \n",
       "1                    0.3         31.05                   2.5         1.25  \n",
       "2                    0.3         10.56                   2.5         0.00  \n",
       "3                    0.3         13.80                   2.5         0.00  \n",
       "4                    0.3         10.56                   2.5         0.00  "
      ]
     },
     "execution_count": 5,
     "metadata": {},
     "output_type": "execute_result"
    }
   ],
   "source": [
    "# Now, define the validator and validate it against batches\n",
    "# context.add_or_update_expectation_suite(\"my_asset_expectation_suite\")\n",
    "\n",
    "asset_validator = context.get_validator(\n",
    "    batch_request=my_batch_request,\n",
    "    expectation_suite_name=\"default\",\n",
    ")\n",
    "asset_validator.head()"
   ]
  },
  {
   "cell_type": "code",
   "execution_count": 6,
   "id": "0f15e910-edbb-4462-bfd8-d90ed25c91cb",
   "metadata": {},
   "outputs": [
    {
     "data": {
      "application/vnd.jupyter.widget-view+json": {
       "model_id": "15dbac899993431ebd5616d642aa7356",
       "version_major": 2,
       "version_minor": 0
      },
      "text/plain": [
       "Calculating Metrics:   0%|          | 0/15 [00:00<?, ?it/s]"
      ]
     },
     "metadata": {},
     "output_type": "display_data"
    },
    {
     "name": "stderr",
     "output_type": "stream",
     "text": [
      "[1009/210456.059107:ERROR:file_io_posix.cc(152)] open /home/quandv/.config/BraveSoftware/Brave-Browser/Crash Reports/pending/6e3039b9-5d88-44cb-9730-f8d9e67ee50d.lock: File exists (17)\n"
     ]
    },
    {
     "name": "stdout",
     "output_type": "stream",
     "text": [
      "Opening in existing browser session.\n"
     ]
    }
   ],
   "source": [
    "# Similar to a single file, create a checkpoint to validate the result\n",
    "# Define the checkpoint\n",
    "checkpoint = context.add_or_update_checkpoint(\n",
    "    name=\"yellow_tripdata_asset_checkpoint\",\n",
    "    validator=asset_validator\n",
    ")\n",
    "\n",
    "# Get the result after validation\n",
    "checkpoint_result = checkpoint.run()\n",
    "\n",
    "# Quick view on the validation result\n",
    "context.view_validation_result(checkpoint_result)"
   ]
  },
  {
   "cell_type": "code",
   "execution_count": null,
   "id": "5cbc4f57-ce94-4e6a-9610-b22c26fb1368",
   "metadata": {},
   "outputs": [],
   "source": []
  }
 ],
 "metadata": {
  "kernelspec": {
   "display_name": "Python 3 (ipykernel)",
   "language": "python",
   "name": "python3"
  },
  "language_info": {
   "codemirror_mode": {
    "name": "ipython",
    "version": 3
   },
   "file_extension": ".py",
   "mimetype": "text/x-python",
   "name": "python",
   "nbconvert_exporter": "python",
   "pygments_lexer": "ipython3",
   "version": "3.9.18"
  }
 },
 "nbformat": 4,
 "nbformat_minor": 5
}
